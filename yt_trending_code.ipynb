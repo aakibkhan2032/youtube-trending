{
 "cells": [
  {
   "cell_type": "code",
   "execution_count": null,
   "id": "744f7946-9e7e-4c5f-9963-c4a61c7d758d",
   "metadata": {},
   "outputs": [],
   "source": [
    "pip install mysql.connector"
   ]
  },
  {
   "cell_type": "code",
   "execution_count": null,
   "id": "3e8614c3-eac3-4c64-b68f-09a32bd2608a",
   "metadata": {},
   "outputs": [],
   "source": [
    "pip install datetime"
   ]
  },
  {
   "cell_type": "code",
   "execution_count": 3,
   "id": "898d1520-469b-4b0d-a0dc-a8ef4b9375d9",
   "metadata": {},
   "outputs": [
    {
     "name": "stdout",
     "output_type": "stream",
     "text": [
      "✅ Top 10 trending videos stored in MYSQL.\n"
     ]
    }
   ],
   "source": [
    "import requests \n",
    "import mysql.connector\n",
    "from datetime import datetime\n",
    "\n",
    "\n",
    "API_KEY = #Your API key\n",
    "REGION = 'IN'\n",
    "MAX_RESULT = 10\n",
    "\n",
    "conn=mysql.connector.connect(\n",
    "    host = #your host name,\n",
    "    user = #your user,\n",
    "    passwd = #your password,\n",
    "    database = #database name\n",
    ")\n",
    "\n",
    "cursor = conn.cursor()\n",
    "\n",
    "cursor.execute(\"DELETE FROM yt_trending\")\n",
    "cursor.execute(\"ALTER TABLE yt_trending AUTO_INCREMENT = 1\")\n",
    "conn.commit()\n",
    "\n",
    "\n",
    "url = f\"https://www.googleapis.com/youtube/v3/videos?part=snippet,statistics&chart=mostPopular&regionCode={REGION}&maxResults={MAX_RESULT}&key={API_KEY}\"\n",
    "response = requests.get(url)\n",
    "data = response.json()\n",
    "\n",
    "for item in data.get('items',[]):\n",
    "    video_id = item['id']\n",
    "    title = item['snippet']['title']\n",
    "    yt_channel = item['snippet']['channelTitle']\n",
    "    views = int(item['statistics'].get('viewCount', 0))\n",
    "    published_at = item['snippet']['publishedAt']\n",
    "    published_dt = datetime.strptime(published_at, \"%Y-%m-%dT%H:%M:%SZ\")\n",
    "\n",
    "    # Insert into MySQL\n",
    "    cursor.execute(\"\"\"\n",
    "        INSERT IGNORE INTO yt_trending (video_id, title, yt_channel, views, published_at)\n",
    "        VALUES (%s, %s, %s, %s, %s)\n",
    "    \"\"\", (video_id, title, yt_channel, views, published_dt))\n",
    "\n",
    "conn.commit()\n",
    "cursor.close()\n",
    "conn.close()\n",
    "\n",
    "print(\"✅ Top 10 trending videos stored in MYSQL.\")"
   ]
  }
 ],
 "metadata": {
  "kernelspec": {
   "display_name": "Python 3 (ipykernel)",
   "language": "python",
   "name": "python3"
  },
  "language_info": {
   "codemirror_mode": {
    "name": "ipython",
    "version": 3
   },
   "file_extension": ".py",
   "mimetype": "text/x-python",
   "name": "python",
   "nbconvert_exporter": "python",
   "pygments_lexer": "ipython3",
   "version": "3.13.5"
  }
 },
 "nbformat": 4,
 "nbformat_minor": 5
}
