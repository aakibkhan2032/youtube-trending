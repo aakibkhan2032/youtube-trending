{
 "cells": [
  {
   "cell_type": "code",
   "execution_count": 3,
   "id": "898d1520-469b-4b0d-a0dc-a8ef4b9375d9",
   "metadata": {},
   "outputs": [
    {
     "name": "stdout",
     "output_type": "stream",
     "text": [
      "✅ Top 10 trending videos stored in MYSQL.\n"
     ]
    }
   ],
   "source": [
    "import requests \n",
    "import mysql.connector\n",
    "from datetime import datetime\n",
    "\n",
    "\n",
    "API_KEY = #Your API key\n",
    "REGION = 'IN'\n",
    "MAX_RESULT = 10\n",
    "\n",
    "conn=mysql.connector.connect(\n",
    "    host = #your host name,\n",
    "    user = #your user,\n",
    "    passwd = #your password,\n",
    "    database = #database name\n",
    ")\n",
    "\n",
    "cursor = conn.cursor()\n",
    "\n",
    "cursor.execute(\"DELETE FROM yt_trending\")\n",
    "cursor.execute(\"ALTER TABLE yt_trending AUTO_INCREMENT = 1\")\n",
    "conn.commit()\n",
    "\n",
    "\n",
    "url = f\"https://www.googleapis.com/youtube/v3/videos?part=snippet,statistics&chart=mostPopular&regionCode={REGION}&maxResults={MAX_RESULT}&key={API_KEY}\"\n",
    "response = requests.get(url)\n",
    "data = response.json()\n",
    "\n",
    "for item in data.get('items',[]):\n",
    "    video_id = item['id']\n",
    "    title = item['snippet']['title']\n",
    "    yt_channel = item['snippet']['channelTitle']\n",
    "    views = int(item['statistics'].get('viewCount', 0))\n",
    "    published_at = item['snippet']['publishedAt']\n",
    "    published_dt = datetime.strptime(published_at, \"%Y-%m-%dT%H:%M:%SZ\")\n",
    "\n",
    "    # Insert into MySQL\n",
    "    cursor.execute(\"\"\"\n",
    "        INSERT IGNORE INTO yt_trending (video_id, title, yt_channel, views, published_at)\n",
    "        VALUES (%s, %s, %s, %s, %s)\n",
    "    \"\"\", (video_id, title, yt_channel, views, published_dt))\n",
    "\n",
    "conn.commit()\n",
    "cursor.close()\n",
    "conn.close()\n",
    "\n",
    "print(\"✅ Top 10 trending videos stored in MYSQL.\")"
   ]
  },
  {
   "cell_type": "code",
   "execution_count": 2,
   "id": "aee30fc7-7666-41eb-8ddc-2346f22f7c99",
   "metadata": {},
   "outputs": [
    {
     "name": "stdout",
     "output_type": "stream",
     "text": [
      "Collecting mysql.connector\n",
      "  Downloading mysql-connector-2.2.9.tar.gz (11.9 MB)\n",
      "     ---------------------------------------- 0.0/11.9 MB ? eta -:--:--\n",
      "     ---------------------------------------- 0.0/11.9 MB ? eta -:--:--\n",
      "      --------------------------------------- 0.3/11.9 MB ? eta -:--:--\n",
      "     --- ------------------------------------ 1.0/11.9 MB 3.5 MB/s eta 0:00:04\n",
      "     -------- ------------------------------- 2.6/11.9 MB 5.1 MB/s eta 0:00:02\n",
      "     ------------ --------------------------- 3.7/11.9 MB 5.7 MB/s eta 0:00:02\n",
      "     ------------ --------------------------- 3.7/11.9 MB 5.7 MB/s eta 0:00:02\n",
      "     ---------------- ----------------------- 5.0/11.9 MB 5.1 MB/s eta 0:00:02\n",
      "     ---------------------- ----------------- 6.6/11.9 MB 5.5 MB/s eta 0:00:01\n",
      "     -------------------------- ------------- 7.9/11.9 MB 5.6 MB/s eta 0:00:01\n",
      "     ------------------------------- -------- 9.4/11.9 MB 6.0 MB/s eta 0:00:01\n",
      "     ---------------------------------------  11.8/11.9 MB 6.1 MB/s eta 0:00:01\n",
      "     ---------------------------------------- 11.9/11.9 MB 6.0 MB/s eta 0:00:00\n",
      "  Installing build dependencies: started\n",
      "  Installing build dependencies: finished with status 'done'\n",
      "  Getting requirements to build wheel: started\n",
      "  Getting requirements to build wheel: finished with status 'done'\n",
      "  Preparing metadata (pyproject.toml): started\n",
      "  Preparing metadata (pyproject.toml): finished with status 'done'\n",
      "Building wheels for collected packages: mysql.connector\n",
      "  Building wheel for mysql.connector (pyproject.toml): started\n",
      "  Building wheel for mysql.connector (pyproject.toml): finished with status 'done'\n",
      "  Created wheel for mysql.connector: filename=mysql_connector-2.2.9-cp313-cp313-win_amd64.whl size=248050 sha256=0e836f96acd50dc99cbc4118e63bb1ac5afd09ef7f82201aab2201c647ab72a6\n",
      "  Stored in directory: c:\\users\\hp\\appdata\\local\\pip\\cache\\wheels\\4e\\c1\\23\\9423c444a75266a05275c80ebf5c6efe2368388e976b690a0f\n",
      "Successfully built mysql.connector\n",
      "Installing collected packages: mysql.connector\n",
      "Successfully installed mysql.connector-2.2.9\n",
      "Note: you may need to restart the kernel to use updated packages.\n"
     ]
    }
   ],
   "source": [
    "pip install mysql.connector"
   ]
  },
  {
   "cell_type": "code",
   "execution_count": 3,
   "id": "4fde7019-a0a2-4cf5-8424-974d5c73734d",
   "metadata": {},
   "outputs": [
    {
     "name": "stdout",
     "output_type": "stream",
     "text": [
      "Collecting datetime\n",
      "  Downloading DateTime-5.5-py3-none-any.whl.metadata (33 kB)\n",
      "Collecting zope.interface (from datetime)\n",
      "  Downloading zope.interface-7.2-cp313-cp313-win_amd64.whl.metadata (45 kB)\n",
      "Collecting pytz (from datetime)\n",
      "  Downloading pytz-2025.2-py2.py3-none-any.whl.metadata (22 kB)\n",
      "Requirement already satisfied: setuptools in c:\\users\\hp\\appdata\\local\\programs\\python\\python313\\lib\\site-packages (from zope.interface->datetime) (80.9.0)\n",
      "Downloading DateTime-5.5-py3-none-any.whl (52 kB)\n",
      "Downloading pytz-2025.2-py2.py3-none-any.whl (509 kB)\n",
      "Downloading zope.interface-7.2-cp313-cp313-win_amd64.whl (212 kB)\n",
      "Installing collected packages: pytz, zope.interface, datetime\n",
      "\n",
      "   ---------------------------------------- 0/3 [pytz]\n",
      "   ---------------------------------------- 0/3 [pytz]\n",
      "   ---------------------------------------- 0/3 [pytz]\n",
      "   ---------------------------------------- 0/3 [pytz]\n",
      "   ---------------------------------------- 0/3 [pytz]\n",
      "   ---------------------------------------- 0/3 [pytz]\n",
      "   ------------- -------------------------- 1/3 [zope.interface]\n",
      "   ------------- -------------------------- 1/3 [zope.interface]\n",
      "   ------------- -------------------------- 1/3 [zope.interface]\n",
      "   ------------- -------------------------- 1/3 [zope.interface]\n",
      "   ------------- -------------------------- 1/3 [zope.interface]\n",
      "   ------------- -------------------------- 1/3 [zope.interface]\n",
      "   ------------- -------------------------- 1/3 [zope.interface]\n",
      "   ------------- -------------------------- 1/3 [zope.interface]\n",
      "   ------------- -------------------------- 1/3 [zope.interface]\n",
      "   ------------- -------------------------- 1/3 [zope.interface]\n",
      "   ------------- -------------------------- 1/3 [zope.interface]\n",
      "   -------------------------- ------------- 2/3 [datetime]\n",
      "   -------------------------- ------------- 2/3 [datetime]\n",
      "   ---------------------------------------- 3/3 [datetime]\n",
      "\n",
      "Successfully installed datetime-5.5 pytz-2025.2 zope.interface-7.2\n",
      "Note: you may need to restart the kernel to use updated packages.\n"
     ]
    }
   ],
   "source": [
    "pip install datetime"
   ]
  }
 ],
 "metadata": {
  "kernelspec": {
   "display_name": "Python 3 (ipykernel)",
   "language": "python",
   "name": "python3"
  },
  "language_info": {
   "codemirror_mode": {
    "name": "ipython",
    "version": 3
   },
   "file_extension": ".py",
   "mimetype": "text/x-python",
   "name": "python",
   "nbconvert_exporter": "python",
   "pygments_lexer": "ipython3",
   "version": "3.13.5"
  }
 },
 "nbformat": 4,
 "nbformat_minor": 5
}
